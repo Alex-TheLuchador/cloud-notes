{
 "cells": [
  {
   "cell_type": "markdown",
   "id": "91a31243",
   "metadata": {},
   "source": [
    "# 🎮 Pokémon Data & Analytics Platform\n",
    "\n",
    "## Objective\n",
    "Build a modern data engineering pipeline that extracts rich Pokémon data from the [PokeAPI](https://pokeapi.co/), processes and stores it in a scalable **Lakehouse architecture**, and enables complex analytical queries, ML insights, and interactive visualizations."
   ]
  },
  {
   "cell_type": "markdown",
   "id": "f3152c47",
   "metadata": {},
   "source": [
    "## Key Features / Workflow\n",
    "\n",
    "### 1. Data Ingestion (ELT Pipeline)\n",
    "- Periodically extract data from the PokeAPI.\n",
    "- Extract hierarchical data:\n",
    "  - Pokémon → Evolutions → Moves → Stats → Types.\n",
    "- Store raw JSON data in a **data lake** (e.g., AWS S3, GCS, or local MinIO) or SQLite?\n",
    "\n",
    "### 2. Data Transformation\n",
    "- Use **Apache Spark** (PySpark) for transformation:\n",
    "  - Flatten and normalize nested structures.\n",
    "  - Create dimensional models:\n",
    "    - `pokemon` (fact)\n",
    "    - `types`, `abilities`, `moves` (dimensions)\n",
    "  - Enrich data with external datasets (e.g., popularity, games, community rankings).\n",
    "\n",
    "### 3. Data Storage (Lakehouse Architecture)\n",
    "- Store processed data\n",
    "\n",
    "### 4. Data Serving & Exploration\n",
    "- Use tools like:\n",
    "  - **Apache Superset** / **Metabase** / **Streamlit**\n",
    "- Build visualizations and dashboards:\n",
    "  - Top 10 strongest Pokémon by base stats.\n",
    "  - Evolution treemaps.\n",
    "  - Type effectiveness matrix.\n",
    "  - Fun stats and comparisons.\n",
    "- Interactive querying:\n",
    "  - E.g., \"List all Fire-type Pokémon with speed > 100 and special attack > 90\".\n",
    "\n",
    "### 5. Machine Learning & Graph Analytics (Bonus)\n",
    "- **Clustering**: Use K-Means to group similar Pokémon based on stats.\n",
    "- **Classification**: Predict battle outcomes using logistic regression or tree-based models.\n",
    "- **Graph Analysis**:\n",
    "  - Use **NetworkX** or **Neo4j** to explore evolution chains as directed graphs.\n",
    "\n",
    "## Bonus Ideas\n",
    "- **API Gateway**:\n",
    "  - Build a FastAPI or GraphQL service layer on top of your Lakehouse data.\n",
    "- **Streaming**:\n",
    "  - Simulate real-time \"wild Pokémon encounters\" using **Kafka** + **Spark Structured Streaming**.\n",
    "- **Leaderboard**:\n",
    "  - Create a dynamic ranking of strongest Pokémon by an aggregated score (e.g., sum of normalized stats).\n",
    "- **Data Versioning**:\n",
    "  - Integrate **DVC** or **LakeFS** to version data and track evolution of your datasets over time."
   ]
  },
  {
   "cell_type": "code",
   "execution_count": null,
   "id": "f922ef54",
   "metadata": {},
   "outputs": [],
   "source": [
    "import requests\n",
    "\n",
    "url = \"https://pokeapi.co/api/v2/pokemon/ditto\"\n",
    "response = requests.get(url, verify=False) # Self-signed SSL certificate error, so we disable verification\n",
    "data = response.json()\n",
    "print(data)"
   ]
  }
 ],
 "metadata": {
  "kernelspec": {
   "display_name": "Python 3",
   "language": "python",
   "name": "python3"
  },
  "language_info": {
   "codemirror_mode": {
    "name": "ipython",
    "version": 3
   },
   "file_extension": ".py",
   "mimetype": "text/x-python",
   "name": "python",
   "nbconvert_exporter": "python",
   "pygments_lexer": "ipython3",
   "version": "3.12.10"
  }
 },
 "nbformat": 4,
 "nbformat_minor": 5
}
