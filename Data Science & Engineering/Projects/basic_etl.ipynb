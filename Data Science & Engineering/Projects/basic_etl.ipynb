{
 "cells": [
  {
   "cell_type": "markdown",
   "id": "b3568051",
   "metadata": {},
   "source": [
    "# Basic ETL Workflow Example with CoinGecko Data\n",
    "\n",
    "This notebook demonstrates a simple ETL (Extract, Transform, Load) process using the CoinGecko API:\n",
    "\n",
    "- **Extract:** Download the top 5 cryptocurrencies by market cap.\n",
    "    - In this phase, we set the URL and specify the parameters, which influence how our data is returned.\n",
    "- **Transform:** Clean and select relevant columns for analysis.\n",
    "- **Load:** Save the processed data to a CSV file for further use.\n",
    "\n",
    "This workflow is a common pattern in data engineering for ingesting and preparing external data.\n",
    "\n",
    "## Concepts Introduced\n",
    "- **DataFrame**\n",
    "    - A DataFrame is tabular data format commonly used in data processing with Python via the Pandas library.\n",
    "- **Normalizing**\n",
    "    - Normalizing in this context refers to converting complex or nested data (like JSON) into a flat table format (DataFrame) so it's easier to work with. More generally, it means to make data more consistent or easier to work with."
   ]
  },
  {
   "cell_type": "code",
   "execution_count": null,
   "id": "578ccae2",
   "metadata": {},
   "outputs": [],
   "source": [
    "# Extract\n",
    "import requests\n",
    "\n",
    "#  Get top 5 cryptocurrencies by market cap from CoinGecko\n",
    "url = f\"https://api.coingecko.com/api/v3/coins/markets\"\n",
    "params = {\n",
    "    \"vs_currency\": \"usd\",\n",
    "    \"order\": \"market_cap_desc\",\n",
    "    \"per_page\": 5,\n",
    "    \"page\": 1,\n",
    "    \"sparkline\": False\n",
    "}\n",
    "response = requests.get(url, params=params)\n",
    "data = response.json()"
   ]
  },
  {
   "cell_type": "code",
   "execution_count": null,
   "id": "db3704fd",
   "metadata": {},
   "outputs": [
    {
     "data": {
      "text/html": [
       "<div>\n",
       "<style scoped>\n",
       "    .dataframe tbody tr th:only-of-type {\n",
       "        vertical-align: middle;\n",
       "    }\n",
       "\n",
       "    .dataframe tbody tr th {\n",
       "        vertical-align: top;\n",
       "    }\n",
       "\n",
       "    .dataframe thead th {\n",
       "        text-align: right;\n",
       "    }\n",
       "</style>\n",
       "<table border=\"1\" class=\"dataframe\">\n",
       "  <thead>\n",
       "    <tr style=\"text-align: right;\">\n",
       "      <th></th>\n",
       "      <th>id</th>\n",
       "      <th>symbol</th>\n",
       "      <th>name</th>\n",
       "      <th>current_price</th>\n",
       "      <th>market_cap</th>\n",
       "      <th>total_volume</th>\n",
       "    </tr>\n",
       "  </thead>\n",
       "  <tbody>\n",
       "    <tr>\n",
       "      <th>0</th>\n",
       "      <td>bitcoin</td>\n",
       "      <td>btc</td>\n",
       "      <td>Bitcoin</td>\n",
       "      <td>109189.00</td>\n",
       "      <td>2174227038335</td>\n",
       "      <td>27886200415</td>\n",
       "    </tr>\n",
       "    <tr>\n",
       "      <th>1</th>\n",
       "      <td>ethereum</td>\n",
       "      <td>eth</td>\n",
       "      <td>Ethereum</td>\n",
       "      <td>2844.28</td>\n",
       "      <td>344113222293</td>\n",
       "      <td>32822049309</td>\n",
       "    </tr>\n",
       "    <tr>\n",
       "      <th>2</th>\n",
       "      <td>tether</td>\n",
       "      <td>usdt</td>\n",
       "      <td>Tether</td>\n",
       "      <td>1.00</td>\n",
       "      <td>155067302139</td>\n",
       "      <td>53866485088</td>\n",
       "    </tr>\n",
       "    <tr>\n",
       "      <th>3</th>\n",
       "      <td>ripple</td>\n",
       "      <td>xrp</td>\n",
       "      <td>XRP</td>\n",
       "      <td>2.31</td>\n",
       "      <td>136158252030</td>\n",
       "      <td>2782797887</td>\n",
       "    </tr>\n",
       "    <tr>\n",
       "      <th>4</th>\n",
       "      <td>binancecoin</td>\n",
       "      <td>bnb</td>\n",
       "      <td>BNB</td>\n",
       "      <td>666.76</td>\n",
       "      <td>97419682688</td>\n",
       "      <td>953669542</td>\n",
       "    </tr>\n",
       "  </tbody>\n",
       "</table>\n",
       "</div>"
      ],
      "text/plain": [
       "            id symbol      name  current_price     market_cap  total_volume\n",
       "0      bitcoin    btc   Bitcoin      109189.00  2174227038335   27886200415\n",
       "1     ethereum    eth  Ethereum        2844.28   344113222293   32822049309\n",
       "2       tether   usdt    Tether           1.00   155067302139   53866485088\n",
       "3       ripple    xrp       XRP           2.31   136158252030    2782797887\n",
       "4  binancecoin    bnb       BNB         666.76    97419682688     953669542"
      ]
     },
     "execution_count": 18,
     "metadata": {},
     "output_type": "execute_result"
    }
   ],
   "source": [
    "# Transform\n",
    "import pandas as pd\n",
    "\n",
    "# Normalize and select relevant columns\n",
    "if data:\n",
    "\n",
    "    # Normalize JSON response into a DataFrame\n",
    "    df = pd.json_normalize(data)\n",
    "\n",
    "    # Select relevant columns\n",
    "    df = df[[\"id\", \"symbol\", \"name\", \"current_price\", \"market_cap\", \"total_volume\"]]\n",
    "    \n",
    "    # Remove rows with NaN values\n",
    "    df = df.dropna()\n",
    "else:\n",
    "    df = pd.DataFrame()\n",
    "\n",
    "# Convert DataFrame to a list of dictionaries\n",
    "flattened_data = df.to_dict(orient=\"records\")\n",
    "\n",
    "# Display the first 5 rows of the DataFrame\n",
    "df.head()"
   ]
  },
  {
   "cell_type": "code",
   "execution_count": 19,
   "id": "8c47166b",
   "metadata": {},
   "outputs": [
    {
     "name": "stdout",
     "output_type": "stream",
     "text": [
      "Saved top 5 cryptocurrencies data to top_5_cryptos.csv\n"
     ]
    }
   ],
   "source": [
    "# Load\n",
    "# For demonstration, save the transformed data to a CSV file\n",
    "output_path = \"top_5_cryptos.csv\"\n",
    "df.to_csv(output_path, index=False)\n",
    "print(f\"Saved top 5 cryptocurrencies data to {output_path}\")"
   ]
  }
 ],
 "metadata": {
  "kernelspec": {
   "display_name": "Python 3 (ipykernel)",
   "language": "python",
   "name": "python3"
  },
  "language_info": {
   "codemirror_mode": {
    "name": "ipython",
    "version": 3
   },
   "file_extension": ".py",
   "mimetype": "text/x-python",
   "name": "python",
   "nbconvert_exporter": "python",
   "pygments_lexer": "ipython3",
   "version": "3.12.10"
  }
 },
 "nbformat": 4,
 "nbformat_minor": 5
}
