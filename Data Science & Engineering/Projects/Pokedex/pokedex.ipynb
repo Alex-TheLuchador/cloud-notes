{
 "cells": [
  {
   "cell_type": "markdown",
   "id": "91a31243",
   "metadata": {},
   "source": [
    "# 🎮 Pokémon Data & Analytics Platform\n",
    "\n",
    "## Objective\n",
    "Build a modern data engineering pipeline that extracts rich Pokémon data from the [PokeAPI](https://pokeapi.co/), processes and stores it in a scalable **Lakehouse architecture**, and enables complex analytical queries, ML insights, and interactive visualizations."
   ]
  },
  {
   "cell_type": "markdown",
   "id": "f3152c47",
   "metadata": {},
   "source": [
    "## Key Features / Workflow\n",
    "\n",
    "### 1. Data Ingestion (ELT Pipeline)\n",
    "- Periodically extract data from the PokeAPI.\n",
    "- Extract hierarchical data:\n",
    "  - Pokémon → Evolutions → Moves → Stats → Types.\n",
    "- Store raw JSON data in a **data lake** (e.g., AWS S3, GCS, or local MinIO) or SQLite?"
   ]
  },
  {
   "cell_type": "code",
   "execution_count": 1,
   "id": "f922ef54",
   "metadata": {},
   "outputs": [
    {
     "name": "stderr",
     "output_type": "stream",
     "text": [
      "C:\\Users\\ahernandez\\AppData\\Roaming\\Python\\Python312\\site-packages\\urllib3\\connectionpool.py:1097: InsecureRequestWarning: Unverified HTTPS request is being made to host 'pokeapi.co'. Adding certificate verification is strongly advised. See: https://urllib3.readthedocs.io/en/latest/advanced-usage.html#tls-warnings\n",
      "  warnings.warn(\n"
     ]
    }
   ],
   "source": [
    "import requests\n",
    "\n",
    "url = \"https://pokeapi.co/api/v2/pokemon/ditto\"\n",
    "response = requests.get(url, verify=False) # Self-signed SSL certificate error, so I disabled verification for development purposes\n",
    "data = response.json()"
   ]
  },
  {
   "cell_type": "markdown",
   "id": "dfa7099c",
   "metadata": {},
   "source": [
    "### 2. Data Transformation\n",
    "- Use **Apache Spark** (PySpark) for transformation:\n",
    "  - Flatten and normalize nested structures.\n",
    "  - Create dimensional models:\n",
    "    - `pokemon` (fact)\n",
    "    - `types`, `abilities`, `moves` (dimensions)\n",
    "  - Enrich data with external datasets (e.g., popularity, games, community rankings)."
   ]
  },
  {
   "cell_type": "code",
   "execution_count": null,
   "id": "4c248093",
   "metadata": {},
   "outputs": [
    {
     "data": {
      "text/html": [
       "<div>\n",
       "<style scoped>\n",
       "    .dataframe tbody tr th:only-of-type {\n",
       "        vertical-align: middle;\n",
       "    }\n",
       "\n",
       "    .dataframe tbody tr th {\n",
       "        vertical-align: top;\n",
       "    }\n",
       "\n",
       "    .dataframe thead th {\n",
       "        text-align: right;\n",
       "    }\n",
       "</style>\n",
       "<table border=\"1\" class=\"dataframe\">\n",
       "  <thead>\n",
       "    <tr style=\"text-align: right;\">\n",
       "      <th></th>\n",
       "      <th>name</th>\n",
       "      <th>height</th>\n",
       "      <th>weight</th>\n",
       "      <th>abilities</th>\n",
       "      <th>types</th>\n",
       "      <th>moves</th>\n",
       "    </tr>\n",
       "  </thead>\n",
       "  <tbody>\n",
       "    <tr>\n",
       "      <th>0</th>\n",
       "      <td>ditto</td>\n",
       "      <td>3</td>\n",
       "      <td>40</td>\n",
       "      <td>limber, imposter</td>\n",
       "      <td>normal</td>\n",
       "      <td>transform</td>\n",
       "    </tr>\n",
       "  </tbody>\n",
       "</table>\n",
       "</div>"
      ],
      "text/plain": [
       "    name  height  weight         abilities   types      moves\n",
       "0  ditto       3      40  limber, imposter  normal  transform"
      ]
     },
     "metadata": {},
     "output_type": "display_data"
    }
   ],
   "source": [
    "import pandas as pd\n",
    "import sqlite3\n",
    "import json\n",
    "\n",
    "conn = sqlite3.connect('pokedex.db')\n",
    "\n",
    "def extract_ability_names(abilities):\n",
    "    return \", \".join([a['ability']['name'] for a in abilities])\n",
    "\n",
    "def extract_type_names(types):\n",
    "    return \", \".join([t['type']['name'] for t in types])\n",
    "\n",
    "def extract_move_names(moves):\n",
    "    return \", \".join([m['move']['name'] for m in moves])\n",
    "\n",
    "if data:\n",
    "    df = pd.json_normalize(data)\n",
    "    columns_to_keep = ['name', 'height', 'weight', 'abilities', 'types', 'moves']\n",
    "    df = df[columns_to_keep]\n",
    "\n",
    "    df['abilities'] = df['abilities'].apply(extract_ability_names)\n",
    "    df['types'] = df['types'].apply(extract_type_names)\n",
    "    df['moves'] = df['moves'].apply(extract_move_names)\n",
    "    \n",
    "    df.to_sql('pokemon', conn, if_exists='replace', index=False)\n",
    "    df_loaded = pd.read_sql('SELECT * FROM pokemon', conn)\n",
    "    display(df_loaded)\n",
    "    \n",
    "    conn.close()"
   ]
  },
  {
   "cell_type": "markdown",
   "id": "6f64dcc6",
   "metadata": {},
   "source": [
    "### 3. Data Storage (Lakehouse Architecture)\n",
    "- Store processed data\n",
    "\n",
    "### 4. Data Serving & Exploration\n",
    "- Use tools like:\n",
    "  - **Apache Superset** / **Metabase** / **Streamlit**\n",
    "- Build visualizations and dashboards:\n",
    "  - Top 10 strongest Pokémon by base stats.\n",
    "  - Evolution treemaps.\n",
    "  - Type effectiveness matrix.\n",
    "  - Fun stats and comparisons.\n",
    "- Interactive querying:\n",
    "  - E.g., \"List all Fire-type Pokémon with speed > 100 and special attack > 90\".\n",
    "\n",
    "### 5. Machine Learning & Graph Analytics (Bonus)\n",
    "- **Clustering**: Use K-Means to group similar Pokémon based on stats.\n",
    "- **Classification**: Predict battle outcomes using logistic regression or tree-based models.\n",
    "- **Graph Analysis**:\n",
    "  - Use **NetworkX** or **Neo4j** to explore evolution chains as directed graphs.\n",
    "\n",
    "## Bonus Ideas\n",
    "- **API Gateway**:\n",
    "  - Build a FastAPI or GraphQL service layer on top of your Lakehouse data.\n",
    "- **Streaming**:\n",
    "  - Simulate real-time \"wild Pokémon encounters\" using **Kafka** + **Spark Structured Streaming**.\n",
    "- **Leaderboard**:\n",
    "  - Create a dynamic ranking of strongest Pokémon by an aggregated score (e.g., sum of normalized stats).\n",
    "- **Data Versioning**:\n",
    "  - Integrate **DVC** or **LakeFS** to version data and track evolution of your datasets over time."
   ]
  }
 ],
 "metadata": {
  "kernelspec": {
   "display_name": "Python 3",
   "language": "python",
   "name": "python3"
  },
  "language_info": {
   "codemirror_mode": {
    "name": "ipython",
    "version": 3
   },
   "file_extension": ".py",
   "mimetype": "text/x-python",
   "name": "python",
   "nbconvert_exporter": "python",
   "pygments_lexer": "ipython3",
   "version": "3.12.10"
  }
 },
 "nbformat": 4,
 "nbformat_minor": 5
}
